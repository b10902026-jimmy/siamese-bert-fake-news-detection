{
 "cells": [
  {
   "cell_type": "markdown",
   "id": "76ebaeeb",
   "metadata": {},
   "source": [
    "# 🧠 LIAR-PLUS Dataset Exploration\n",
    "這份 Notebook 主要用於分析 `train2.tsv`、`val2.tsv`、`test2.tsv` 三個檔案的結構與內容，並透過視覺化了解資料分佈與特性。"
   ]
  },
  {
   "cell_type": "code",
   "execution_count": null,
   "id": "2483edfe",
   "metadata": {},
   "outputs": [],
   "source": [
    "import pandas as pd\n",
    "import matplotlib.pyplot as plt\n",
    "import seaborn as sns\n",
    "import os\n",
    "\n",
    "# 設定資料路徑\n",
    "train_path = './LIAR-PLUS/dataset/train2.tsv'\n",
    "val_path = './LIAR-PLUS/dataset/val2.tsv'\n",
    "test_path = './LIAR-PLUS/dataset/test2.tsv'\n",
    "\n",
    "# 讀入資料集\n",
    "train_df = pd.read_csv(train_path, sep='\\t', header=None)\n",
    "val_df = pd.read_csv(val_path, sep='\\t', header=None)\n",
    "test_df = pd.read_csv(test_path, sep='\\t', header=None)\n",
    "\n",
    "# 指定欄位名稱\n",
    "columns = [\"id\", \"json\", \"label\", \"statement\", \"subject\", \"speaker\", \"job\", \"state\", \"party\", \"barely_true\", \"false\", \"half_true\", \"mostly_true\", \"true\", \"context\", \"justification\"]\n",
    "for df in [train_df, val_df, test_df]:\n",
    "    df.columns = columns"
   ]
  },
  {
   "cell_type": "markdown",
   "id": "fd2af3f8",
   "metadata": {},
   "source": [
    "## 🔍 1. 資料基本資訊"
   ]
  },
  {
   "cell_type": "code",
   "execution_count": null,
   "id": "47fc18ae",
   "metadata": {},
   "outputs": [],
   "source": [
    "print(\"Train set size:\", train_df.shape)\n",
    "print(\"Validation set size:\", val_df.shape)\n",
    "print(\"Test set size:\", test_df.shape)\n",
    "\n",
    "train_df.head()"
   ]
  },
  {
   "cell_type": "markdown",
   "id": "5fca9750",
   "metadata": {},
   "source": [
    "## 📊 2. 標籤分佈"
   ]
  },
  {
   "cell_type": "code",
   "execution_count": null,
   "id": "537945de",
   "metadata": {},
   "outputs": [],
   "source": [
    "def plot_label_distribution(df, name):\n",
    "    plt.figure(figsize=(8,5))\n",
    "    sns.countplot(x='label', data=df, order=df['label'].value_counts().index)\n",
    "    plt.title(f'{name} - Label Distribution')\n",
    "    plt.xlabel('Label')\n",
    "    plt.ylabel('Count')\n",
    "    plt.xticks(rotation=45)\n",
    "    plt.tight_layout()\n",
    "    plt.show()\n",
    "\n",
    "plot_label_distribution(train_df, \"Train\")\n",
    "plot_label_distribution(val_df, \"Validation\")\n",
    "plot_label_distribution(test_df, \"Test\")"
   ]
  },
  {
   "cell_type": "markdown",
   "id": "d40e1b10",
   "metadata": {},
   "source": [
    "## 📈 3. 信用分數相關性視覺化"
   ]
  },
  {
   "cell_type": "code",
   "execution_count": null,
   "id": "c371b0f9",
   "metadata": {},
   "outputs": [],
   "source": [
    "credit_cols = [\"barely_true\", \"false\", \"half_true\", \"mostly_true\", \"true\"]\n",
    "plt.figure(figsize=(10, 6))\n",
    "sns.heatmap(train_df[credit_cols].corr(), annot=True, cmap='Blues')\n",
    "plt.title(\"Credit Feature Correlation (Train Set)\")\n",
    "plt.show()"
   ]
  },
  {
   "cell_type": "markdown",
   "id": "33e09b52",
   "metadata": {},
   "source": [
    "## 🗣 4. 發言者與黨派關聯統計"
   ]
  },
  {
   "cell_type": "code",
   "execution_count": null,
   "id": "b87f361c",
   "metadata": {},
   "outputs": [],
   "source": [
    "top_speakers = train_df['speaker'].value_counts().head(10)\n",
    "plt.figure(figsize=(10,5))\n",
    "sns.barplot(x=top_speakers.values, y=top_speakers.index)\n",
    "plt.title('Top 10 Frequent Speakers in Train Set')\n",
    "plt.xlabel('Counts')\n",
    "plt.ylabel('Speaker')\n",
    "plt.tight_layout()\n",
    "plt.show()\n",
    "\n",
    "# 黨派分佈\n",
    "plt.figure(figsize=(8,5))\n",
    "sns.countplot(y='party', data=train_df, order=train_df['party'].value_counts().index[:10])\n",
    "plt.title('Top 10 Parties in Train Set')\n",
    "plt.tight_layout()\n",
    "plt.show()"
   ]
  }
 ],
 "metadata": {
  "kernelspec": {
   "display_name": "fake_news_bert",
   "language": "python",
   "name": "python3"
  },
  "language_info": {
   "codemirror_mode": {
    "name": "ipython",
    "version": 3
   },
   "file_extension": ".py",
   "mimetype": "text/x-python",
   "name": "python",
   "nbconvert_exporter": "python",
   "pygments_lexer": "ipython3",
   "version": "3.8.20"
  }
 },
 "nbformat": 4,
 "nbformat_minor": 5
}
